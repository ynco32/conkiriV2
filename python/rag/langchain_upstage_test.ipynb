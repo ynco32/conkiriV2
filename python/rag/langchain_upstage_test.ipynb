{
 "cells": [
  {
   "cell_type": "code",
   "execution_count": 1,
   "id": "89fc622b",
   "metadata": {},
   "outputs": [
    {
     "name": "stdout",
     "output_type": "stream",
     "text": [
      "Defaulting to user installation because normal site-packages is not writeable\n",
      "Requirement already satisfied: python-dotenv in c:\\users\\ssafy\\appdata\\roaming\\python\\python313\\site-packages (1.1.0)\n",
      "Collecting langchain-upstage\n",
      "  Using cached langchain_upstage-0.6.0-py3-none-any.whl.metadata (3.3 kB)\n",
      "Requirement already satisfied: langchain-core<0.4.0,>=0.3.29 in c:\\users\\ssafy\\appdata\\roaming\\python\\python313\\site-packages (from langchain-upstage) (0.3.59)\n",
      "Requirement already satisfied: langchain-openai<0.4,>=0.3 in c:\\users\\ssafy\\appdata\\roaming\\python\\python313\\site-packages (from langchain-upstage) (0.3.16)\n",
      "Collecting pypdf<5.0.0,>=4.2.0 (from langchain-upstage)\n",
      "  Using cached pypdf-4.3.1-py3-none-any.whl.metadata (7.4 kB)\n",
      "Requirement already satisfied: requests<3.0.0,>=2.31.0 in c:\\users\\ssafy\\appdata\\roaming\\python\\python313\\site-packages (from langchain-upstage) (2.32.3)\n",
      "Collecting tokenizers<0.20.0,>=0.19.1 (from langchain-upstage)\n",
      "  Using cached tokenizers-0.19.1.tar.gz (321 kB)\n",
      "  Installing build dependencies: started\n",
      "  Installing build dependencies: finished with status 'done'\n",
      "  Getting requirements to build wheel: started\n",
      "  Getting requirements to build wheel: finished with status 'done'\n",
      "  Preparing metadata (pyproject.toml): started\n",
      "  Preparing metadata (pyproject.toml): finished with status 'done'\n",
      "Requirement already satisfied: langsmith<0.4,>=0.1.125 in c:\\users\\ssafy\\appdata\\roaming\\python\\python313\\site-packages (from langchain-core<0.4.0,>=0.3.29->langchain-upstage) (0.3.42)\n",
      "Requirement already satisfied: tenacity!=8.4.0,<10.0.0,>=8.1.0 in c:\\users\\ssafy\\appdata\\roaming\\python\\python313\\site-packages (from langchain-core<0.4.0,>=0.3.29->langchain-upstage) (9.1.2)\n",
      "Requirement already satisfied: jsonpatch<2.0,>=1.33 in c:\\users\\ssafy\\appdata\\roaming\\python\\python313\\site-packages (from langchain-core<0.4.0,>=0.3.29->langchain-upstage) (1.33)\n",
      "Requirement already satisfied: PyYAML>=5.3 in c:\\users\\ssafy\\appdata\\roaming\\python\\python313\\site-packages (from langchain-core<0.4.0,>=0.3.29->langchain-upstage) (6.0.2)\n",
      "Requirement already satisfied: packaging<25,>=23.2 in c:\\users\\ssafy\\appdata\\roaming\\python\\python313\\site-packages (from langchain-core<0.4.0,>=0.3.29->langchain-upstage) (24.2)\n",
      "Requirement already satisfied: typing-extensions>=4.7 in c:\\users\\ssafy\\appdata\\roaming\\python\\python313\\site-packages (from langchain-core<0.4.0,>=0.3.29->langchain-upstage) (4.13.2)\n",
      "Requirement already satisfied: pydantic<3.0.0,>=2.7.4 in c:\\users\\ssafy\\appdata\\roaming\\python\\python313\\site-packages (from langchain-core<0.4.0,>=0.3.29->langchain-upstage) (2.11.4)\n",
      "Requirement already satisfied: openai<2.0.0,>=1.68.2 in c:\\users\\ssafy\\appdata\\roaming\\python\\python313\\site-packages (from langchain-openai<0.4,>=0.3->langchain-upstage) (1.77.0)\n",
      "Requirement already satisfied: tiktoken<1,>=0.7 in c:\\users\\ssafy\\appdata\\roaming\\python\\python313\\site-packages (from langchain-openai<0.4,>=0.3->langchain-upstage) (0.9.0)\n",
      "Requirement already satisfied: charset-normalizer<4,>=2 in c:\\users\\ssafy\\appdata\\roaming\\python\\python313\\site-packages (from requests<3.0.0,>=2.31.0->langchain-upstage) (3.4.1)\n",
      "Requirement already satisfied: idna<4,>=2.5 in c:\\users\\ssafy\\appdata\\roaming\\python\\python313\\site-packages (from requests<3.0.0,>=2.31.0->langchain-upstage) (3.10)\n",
      "Requirement already satisfied: urllib3<3,>=1.21.1 in c:\\users\\ssafy\\appdata\\roaming\\python\\python313\\site-packages (from requests<3.0.0,>=2.31.0->langchain-upstage) (2.4.0)\n",
      "Requirement already satisfied: certifi>=2017.4.17 in c:\\users\\ssafy\\appdata\\roaming\\python\\python313\\site-packages (from requests<3.0.0,>=2.31.0->langchain-upstage) (2025.4.26)\n",
      "Requirement already satisfied: huggingface-hub<1.0,>=0.16.4 in c:\\users\\ssafy\\appdata\\roaming\\python\\python313\\site-packages (from tokenizers<0.20.0,>=0.19.1->langchain-upstage) (0.31.1)\n",
      "Requirement already satisfied: filelock in c:\\users\\ssafy\\appdata\\roaming\\python\\python313\\site-packages (from huggingface-hub<1.0,>=0.16.4->tokenizers<0.20.0,>=0.19.1->langchain-upstage) (3.18.0)\n",
      "Requirement already satisfied: fsspec>=2023.5.0 in c:\\users\\ssafy\\appdata\\roaming\\python\\python313\\site-packages (from huggingface-hub<1.0,>=0.16.4->tokenizers<0.20.0,>=0.19.1->langchain-upstage) (2025.3.2)\n",
      "Requirement already satisfied: tqdm>=4.42.1 in c:\\users\\ssafy\\appdata\\roaming\\python\\python313\\site-packages (from huggingface-hub<1.0,>=0.16.4->tokenizers<0.20.0,>=0.19.1->langchain-upstage) (4.67.1)\n",
      "Requirement already satisfied: jsonpointer>=1.9 in c:\\users\\ssafy\\appdata\\roaming\\python\\python313\\site-packages (from jsonpatch<2.0,>=1.33->langchain-core<0.4.0,>=0.3.29->langchain-upstage) (3.0.0)\n",
      "Requirement already satisfied: httpx<1,>=0.23.0 in c:\\users\\ssafy\\appdata\\roaming\\python\\python313\\site-packages (from langsmith<0.4,>=0.1.125->langchain-core<0.4.0,>=0.3.29->langchain-upstage) (0.28.1)\n",
      "Requirement already satisfied: orjson<4.0.0,>=3.9.14 in c:\\users\\ssafy\\appdata\\roaming\\python\\python313\\site-packages (from langsmith<0.4,>=0.1.125->langchain-core<0.4.0,>=0.3.29->langchain-upstage) (3.10.18)\n",
      "Requirement already satisfied: requests-toolbelt<2.0.0,>=1.0.0 in c:\\users\\ssafy\\appdata\\roaming\\python\\python313\\site-packages (from langsmith<0.4,>=0.1.125->langchain-core<0.4.0,>=0.3.29->langchain-upstage) (1.0.0)\n",
      "Requirement already satisfied: zstandard<0.24.0,>=0.23.0 in c:\\users\\ssafy\\appdata\\roaming\\python\\python313\\site-packages (from langsmith<0.4,>=0.1.125->langchain-core<0.4.0,>=0.3.29->langchain-upstage) (0.23.0)\n",
      "Requirement already satisfied: anyio<5,>=3.5.0 in c:\\users\\ssafy\\appdata\\roaming\\python\\python313\\site-packages (from openai<2.0.0,>=1.68.2->langchain-openai<0.4,>=0.3->langchain-upstage) (4.9.0)\n",
      "Requirement already satisfied: distro<2,>=1.7.0 in c:\\users\\ssafy\\appdata\\roaming\\python\\python313\\site-packages (from openai<2.0.0,>=1.68.2->langchain-openai<0.4,>=0.3->langchain-upstage) (1.9.0)\n",
      "Requirement already satisfied: jiter<1,>=0.4.0 in c:\\users\\ssafy\\appdata\\roaming\\python\\python313\\site-packages (from openai<2.0.0,>=1.68.2->langchain-openai<0.4,>=0.3->langchain-upstage) (0.9.0)\n",
      "Requirement already satisfied: sniffio in c:\\users\\ssafy\\appdata\\roaming\\python\\python313\\site-packages (from openai<2.0.0,>=1.68.2->langchain-openai<0.4,>=0.3->langchain-upstage) (1.3.1)\n",
      "Requirement already satisfied: annotated-types>=0.6.0 in c:\\users\\ssafy\\appdata\\roaming\\python\\python313\\site-packages (from pydantic<3.0.0,>=2.7.4->langchain-core<0.4.0,>=0.3.29->langchain-upstage) (0.7.0)\n",
      "Requirement already satisfied: pydantic-core==2.33.2 in c:\\users\\ssafy\\appdata\\roaming\\python\\python313\\site-packages (from pydantic<3.0.0,>=2.7.4->langchain-core<0.4.0,>=0.3.29->langchain-upstage) (2.33.2)\n",
      "Requirement already satisfied: typing-inspection>=0.4.0 in c:\\users\\ssafy\\appdata\\roaming\\python\\python313\\site-packages (from pydantic<3.0.0,>=2.7.4->langchain-core<0.4.0,>=0.3.29->langchain-upstage) (0.4.0)\n",
      "Requirement already satisfied: regex>=2022.1.18 in c:\\users\\ssafy\\appdata\\roaming\\python\\python313\\site-packages (from tiktoken<1,>=0.7->langchain-openai<0.4,>=0.3->langchain-upstage) (2024.11.6)\n",
      "Requirement already satisfied: httpcore==1.* in c:\\users\\ssafy\\appdata\\roaming\\python\\python313\\site-packages (from httpx<1,>=0.23.0->langsmith<0.4,>=0.1.125->langchain-core<0.4.0,>=0.3.29->langchain-upstage) (1.0.9)\n",
      "Requirement already satisfied: h11>=0.16 in c:\\users\\ssafy\\appdata\\roaming\\python\\python313\\site-packages (from httpcore==1.*->httpx<1,>=0.23.0->langsmith<0.4,>=0.1.125->langchain-core<0.4.0,>=0.3.29->langchain-upstage) (0.16.0)\n",
      "Requirement already satisfied: colorama in c:\\users\\ssafy\\appdata\\roaming\\python\\python313\\site-packages (from tqdm>=4.42.1->huggingface-hub<1.0,>=0.16.4->tokenizers<0.20.0,>=0.19.1->langchain-upstage) (0.4.6)\n",
      "Using cached langchain_upstage-0.6.0-py3-none-any.whl (20 kB)\n",
      "Using cached pypdf-4.3.1-py3-none-any.whl (295 kB)\n",
      "Building wheels for collected packages: tokenizers\n",
      "  Building wheel for tokenizers (pyproject.toml): started\n",
      "  Building wheel for tokenizers (pyproject.toml): finished with status 'error'\n",
      "Failed to build tokenizers\n",
      "Note: you may need to restart the kernel to use updated packages.\n"
     ]
    },
    {
     "name": "stderr",
     "output_type": "stream",
     "text": [
      "  error: subprocess-exited-with-error\n",
      "  \n",
      "  × Building wheel for tokenizers (pyproject.toml) did not run successfully.\n",
      "  │ exit code: 1\n",
      "  ╰─> [118 lines of output]\n",
      "      Running `maturin pep517 build-wheel -i c:\\Python313\\python.exe --compatibility off`\n",
      "      \\xe2슑截\\x8f  Warning: `project.version` field is required in pyproject.toml unless it is present in the `project.dynamic` list\n",
      "      \\xf0윂\\xb9 Building a mixed python/rust project\n",
      "      \\xf0윍\\x97 Found pyo3 bindings\n",
      "      \\xf0윇\\x8d Found CPython 3.13 at c:\\Python313\\python.exe\n",
      "      \\xf0윋\\xa1 Using build options features, bindings from pyproject.toml\n",
      "      \u001b[1m\u001b[32m   Compiling\u001b[0m proc-macro2 v1.0.81\n",
      "      \u001b[1m\u001b[32m   Compiling\u001b[0m unicode-ident v1.0.12\n",
      "      \u001b[1m\u001b[32m   Compiling\u001b[0m autocfg v1.2.0\n",
      "      \u001b[1m\u001b[32m   Compiling\u001b[0m target-lexicon v0.12.14\n",
      "      \u001b[1m\u001b[32m   Compiling\u001b[0m windows_x86_64_msvc v0.52.5\n",
      "      \u001b[1m\u001b[32m   Compiling\u001b[0m once_cell v1.19.0\n",
      "      \u001b[1m\u001b[32m   Compiling\u001b[0m libc v0.2.153\n",
      "      \u001b[1m\u001b[32m   Compiling\u001b[0m cfg-if v1.0.0\n",
      "      \u001b[1m\u001b[32m   Compiling\u001b[0m crossbeam-utils v0.8.19\n",
      "      \u001b[1m\u001b[32m   Compiling\u001b[0m memchr v2.7.2\n",
      "      \u001b[1m\u001b[32m   Compiling\u001b[0m cc v1.0.94\n",
      "      \u001b[1m\u001b[32m   Compiling\u001b[0m ident_case v1.0.1\n",
      "      \u001b[1m\u001b[32m   Compiling\u001b[0m fnv v1.0.7\n",
      "      \u001b[1m\u001b[32m   Compiling\u001b[0m windows_x86_64_msvc v0.48.5\n",
      "      \u001b[1m\u001b[32m   Compiling\u001b[0m strsim v0.10.0\n",
      "      \u001b[1m\u001b[32m   Compiling\u001b[0m serde v1.0.198\n",
      "      \u001b[1m\u001b[32m   Compiling\u001b[0m smallvec v1.13.2\n",
      "      \u001b[1m\u001b[32m   Compiling\u001b[0m portable-atomic v1.6.0\n",
      "      \u001b[1m\u001b[32m   Compiling\u001b[0m parking_lot_core v0.9.9\n",
      "      \u001b[1m\u001b[32m   Compiling\u001b[0m rayon-core v1.12.1\n",
      "      \u001b[1m\u001b[32m   Compiling\u001b[0m regex-syntax v0.8.3\n",
      "      \u001b[1m\u001b[32m   Compiling\u001b[0m either v1.11.0\n",
      "      \u001b[1m\u001b[32m   Compiling\u001b[0m pkg-config v0.3.30\n",
      "      \u001b[1m\u001b[32m   Compiling\u001b[0m getrandom v0.2.14\n",
      "      \u001b[1m\u001b[32m   Compiling\u001b[0m paste v1.0.14\n",
      "      \u001b[1m\u001b[32m   Compiling\u001b[0m scopeguard v1.2.0\n",
      "      \u001b[1m\u001b[32m   Compiling\u001b[0m heck v0.4.1\n",
      "      \u001b[1m\u001b[32m   Compiling\u001b[0m rand_core v0.6.4\n",
      "      \u001b[1m\u001b[32m   Compiling\u001b[0m num-traits v0.2.18\n",
      "      \u001b[1m\u001b[32m   Compiling\u001b[0m lock_api v0.4.11\n",
      "      \u001b[1m\u001b[32m   Compiling\u001b[0m aho-corasick v1.1.3\n",
      "      \u001b[1m\u001b[32m   Compiling\u001b[0m memoffset v0.9.1\n",
      "      \u001b[1m\u001b[32m   Compiling\u001b[0m matrixmultiply v0.3.8\n",
      "      \u001b[1m\u001b[32m   Compiling\u001b[0m encode_unicode v0.3.6\n",
      "      \u001b[1m\u001b[32m   Compiling\u001b[0m thiserror v1.0.58\n",
      "      \u001b[1m\u001b[32m   Compiling\u001b[0m anstyle v1.0.6\n",
      "      \u001b[1m\u001b[32m   Compiling\u001b[0m ppv-lite86 v0.2.17\n",
      "      \u001b[1m\u001b[32m   Compiling\u001b[0m windows-targets v0.48.5\n",
      "      \u001b[1m\u001b[32m   Compiling\u001b[0m windows-targets v0.52.5\n",
      "      \u001b[1m\u001b[32m   Compiling\u001b[0m serde_json v1.0.116\n",
      "      \u001b[1m\u001b[32m   Compiling\u001b[0m windows-sys v0.52.0\n",
      "      \u001b[1m\u001b[32m   Compiling\u001b[0m minimal-lexical v0.2.1\n",
      "      \u001b[1m\u001b[32m   Compiling\u001b[0m utf8parse v0.2.1\n",
      "      \u001b[1m\u001b[32m   Compiling\u001b[0m rawpointer v0.2.1\n",
      "      \u001b[1m\u001b[32m   Compiling\u001b[0m unicode-width v0.1.11\n",
      "      \u001b[1m\u001b[32m   Compiling\u001b[0m crossbeam-epoch v0.9.18\n",
      "      \u001b[1m\u001b[32m   Compiling\u001b[0m log v0.4.21\n",
      "      \u001b[1m\u001b[32m   Compiling\u001b[0m lazy_static v1.4.0\n",
      "      \u001b[1m\u001b[32m   Compiling\u001b[0m quote v1.0.36\n",
      "      \u001b[1m\u001b[32m   Compiling\u001b[0m parking_lot v0.12.1\n",
      "      \u001b[1m\u001b[32m   Compiling\u001b[0m rand_chacha v0.3.1\n",
      "      \u001b[1m\u001b[32m   Compiling\u001b[0m nom v7.1.3\n",
      "      \u001b[1m\u001b[32m   Compiling\u001b[0m pyo3-build-config v0.21.2\n",
      "      \u001b[1m\u001b[32m   Compiling\u001b[0m anstyle-parse v0.2.3\n",
      "      \u001b[1m\u001b[32m   Compiling\u001b[0m syn v2.0.60\n",
      "      \u001b[1m\u001b[32m   Compiling\u001b[0m crossbeam-deque v0.8.5\n",
      "      \u001b[1m\u001b[32m   Compiling\u001b[0m regex-automata v0.4.6\n",
      "      \u001b[1m\u001b[32m   Compiling\u001b[0m onig_sys v69.8.1\n",
      "      \u001b[1m\u001b[32m   Compiling\u001b[0m esaxx-rs v0.1.10\n",
      "      \u001b[1m\u001b[32m   Compiling\u001b[0m itertools v0.11.0\n",
      "      \u001b[1m\u001b[32m   Compiling\u001b[0m anstyle-wincon v3.0.2\n",
      "      \u001b[1m\u001b[32m   Compiling\u001b[0m console v0.15.8\n",
      "      \u001b[1m\u001b[32m   Compiling\u001b[0m anstyle-query v1.0.2\n",
      "      \u001b[1m\u001b[32m   Compiling\u001b[0m indoc v2.0.5\n",
      "      \u001b[1m\u001b[32m   Compiling\u001b[0m bitflags v1.3.2\n",
      "      \u001b[1m\u001b[32m   Compiling\u001b[0m unicode-segmentation v1.11.0\n",
      "      \u001b[1m\u001b[32m   Compiling\u001b[0m rayon v1.10.0\n",
      "      \u001b[1m\u001b[32m   Compiling\u001b[0m num-complex v0.4.5\n",
      "      \u001b[1m\u001b[32m   Compiling\u001b[0m num-integer v0.1.46\n",
      "      \u001b[1m\u001b[32m   Compiling\u001b[0m macro_rules_attribute-proc_macro v0.2.0\n",
      "      \u001b[1m\u001b[32m   Compiling\u001b[0m unindent v0.2.3\n",
      "      \u001b[1m\u001b[32m   Compiling\u001b[0m ryu v1.0.17\n",
      "      \u001b[1m\u001b[32m   Compiling\u001b[0m number_prefix v0.4.0\n",
      "      \u001b[1m\u001b[32m   Compiling\u001b[0m itoa v1.0.11\n",
      "      \u001b[1m\u001b[32m   Compiling\u001b[0m colorchoice v1.0.0\n",
      "      \u001b[1m\u001b[32m   Compiling\u001b[0m base64 v0.13.1\n",
      "      \u001b[1m\u001b[32m   Compiling\u001b[0m macro_rules_attribute v0.2.0\n",
      "      \u001b[1m\u001b[32m   Compiling\u001b[0m indicatif v0.17.8\n",
      "      \u001b[1m\u001b[32m   Compiling\u001b[0m anstream v0.6.13\n",
      "      \u001b[1m\u001b[32m   Compiling\u001b[0m ndarray v0.15.6\n",
      "      \u001b[1m\u001b[32m   Compiling\u001b[0m rand v0.8.5\n",
      "      \u001b[1m\u001b[32m   Compiling\u001b[0m itertools v0.12.1\n",
      "      \u001b[1m\u001b[32m   Compiling\u001b[0m unicode-normalization-alignments v0.1.12\n",
      "      \u001b[1m\u001b[32m   Compiling\u001b[0m humantime v2.1.0\n",
      "      \u001b[1m\u001b[32m   Compiling\u001b[0m unicode_categories v0.1.1\n",
      "      \u001b[1m\u001b[32m   Compiling\u001b[0m rustc-hash v1.1.0\n",
      "      \u001b[1m\u001b[32m   Compiling\u001b[0m pyo3-ffi v0.21.2\n",
      "      \u001b[1m\u001b[32m   Compiling\u001b[0m pyo3 v0.21.2\n",
      "      \u001b[1m\u001b[32m   Compiling\u001b[0m regex v1.10.4\n",
      "      \u001b[1m\u001b[32m   Compiling\u001b[0m darling_core v0.20.8\n",
      "      \u001b[1m\u001b[32m   Compiling\u001b[0m pyo3-macros-backend v0.21.2\n",
      "      \u001b[1m\u001b[31merror\u001b[0m\u001b[1m:\u001b[0m failed to run custom build command for `pyo3-ffi v0.21.2`\n",
      "      \n",
      "      Caused by:\n",
      "        process didn't exit successfully: `C:\\Users\\SSAFY\\AppData\\Local\\Temp\\pip-install-27jdbj54\\tokenizers_49d02126b4ee4496ab265d77cbc9dc4c\\bindings\\python\\target\\release\\build\\pyo3-ffi-c79dabf1b4881246\\build-script-build` (exit code: 1)\n",
      "        --- stdout\n",
      "        cargo:rerun-if-env-changed=PYO3_CROSS\n",
      "        cargo:rerun-if-env-changed=PYO3_CROSS_LIB_DIR\n",
      "        cargo:rerun-if-env-changed=PYO3_CROSS_PYTHON_VERSION\n",
      "        cargo:rerun-if-env-changed=PYO3_CROSS_PYTHON_IMPLEMENTATION\n",
      "        cargo:rerun-if-env-changed=PYO3_PRINT_CONFIG\n",
      "        cargo:rerun-if-env-changed=PYO3_USE_ABI3_FORWARD_COMPATIBILITY\n",
      "      \n",
      "        --- stderr\n",
      "        error: the configured Python interpreter version (3.13) is newer than PyO3's maximum supported version (3.12)\n",
      "        = help: please check if an updated version of PyO3 is available. Current version: 0.21.2\n",
      "        = help: set PYO3_USE_ABI3_FORWARD_COMPATIBILITY=1 to suppress this check and build anyway using the stable ABI\n",
      "      \u001b[1m\u001b[33mwarning\u001b[0m\u001b[1m:\u001b[0m build failed, waiting for other jobs to finish...\n",
      "      \\xf0윊\\xa5 maturin failed\n",
      "        Caused by: Failed to build a native library through cargo\n",
      "        Caused by: Cargo build finished with \"exit code: 101\": `\"cargo\" \"rustc\" \"--features\" \"pyo3/extension-module\" \"--message-format\" \"json-render-diagnostics\" \"--manifest-path\" \"C:\\\\Users\\\\SSAFY\\\\AppData\\\\Local\\\\Temp\\\\pip-install-27jdbj54\\\\tokenizers_49d02126b4ee4496ab265d77cbc9dc4c\\\\bindings\\\\python\\\\Cargo.toml\" \"--release\" \"--lib\"`\n",
      "      Error: command ['maturin', 'pep517', 'build-wheel', '-i', 'c:\\\\Python313\\\\python.exe', '--compatibility', 'off'] returned non-zero exit status 1\n",
      "      [end of output]\n",
      "  \n",
      "  note: This error originates from a subprocess, and is likely not a problem with pip.\n",
      "  ERROR: Failed building wheel for tokenizers\n",
      "\n",
      "[notice] A new release of pip is available: 24.3.1 -> 25.1.1\n",
      "[notice] To update, run: python.exe -m pip install --upgrade pip\n",
      "ERROR: ERROR: Failed to build installable wheels for some pyproject.toml based projects (tokenizers)\n"
     ]
    }
   ],
   "source": [
    "%pip install python-dotenv langchain-upstage"
   ]
  },
  {
   "cell_type": "code",
   "execution_count": 3,
   "id": "a3e79a04",
   "metadata": {},
   "outputs": [
    {
     "name": "stdout",
     "output_type": "stream",
     "text": [
      "Defaulting to user installation because normal site-packages is not writeable\n",
      "Collecting tokenizers\n",
      "  Using cached tokenizers-0.21.1-cp39-abi3-win_amd64.whl.metadata (6.9 kB)\n",
      "Collecting huggingface-hub<1.0,>=0.16.4 (from tokenizers)\n",
      "  Using cached huggingface_hub-0.31.1-py3-none-any.whl.metadata (13 kB)\n",
      "Collecting filelock (from huggingface-hub<1.0,>=0.16.4->tokenizers)\n",
      "  Using cached filelock-3.18.0-py3-none-any.whl.metadata (2.9 kB)\n",
      "Collecting fsspec>=2023.5.0 (from huggingface-hub<1.0,>=0.16.4->tokenizers)\n",
      "  Using cached fsspec-2025.3.2-py3-none-any.whl.metadata (11 kB)\n",
      "Requirement already satisfied: packaging>=20.9 in c:\\users\\ssafy\\appdata\\roaming\\python\\python313\\site-packages (from huggingface-hub<1.0,>=0.16.4->tokenizers) (24.2)\n",
      "Requirement already satisfied: pyyaml>=5.1 in c:\\users\\ssafy\\appdata\\roaming\\python\\python313\\site-packages (from huggingface-hub<1.0,>=0.16.4->tokenizers) (6.0.2)\n",
      "Requirement already satisfied: requests in c:\\users\\ssafy\\appdata\\roaming\\python\\python313\\site-packages (from huggingface-hub<1.0,>=0.16.4->tokenizers) (2.32.3)\n",
      "Requirement already satisfied: tqdm>=4.42.1 in c:\\users\\ssafy\\appdata\\roaming\\python\\python313\\site-packages (from huggingface-hub<1.0,>=0.16.4->tokenizers) (4.67.1)\n",
      "Requirement already satisfied: typing-extensions>=3.7.4.3 in c:\\users\\ssafy\\appdata\\roaming\\python\\python313\\site-packages (from huggingface-hub<1.0,>=0.16.4->tokenizers) (4.13.2)\n",
      "Requirement already satisfied: colorama in c:\\users\\ssafy\\appdata\\roaming\\python\\python313\\site-packages (from tqdm>=4.42.1->huggingface-hub<1.0,>=0.16.4->tokenizers) (0.4.6)\n",
      "Requirement already satisfied: charset-normalizer<4,>=2 in c:\\users\\ssafy\\appdata\\roaming\\python\\python313\\site-packages (from requests->huggingface-hub<1.0,>=0.16.4->tokenizers) (3.4.1)\n",
      "Requirement already satisfied: idna<4,>=2.5 in c:\\users\\ssafy\\appdata\\roaming\\python\\python313\\site-packages (from requests->huggingface-hub<1.0,>=0.16.4->tokenizers) (3.10)\n",
      "Requirement already satisfied: urllib3<3,>=1.21.1 in c:\\users\\ssafy\\appdata\\roaming\\python\\python313\\site-packages (from requests->huggingface-hub<1.0,>=0.16.4->tokenizers) (2.4.0)\n",
      "Requirement already satisfied: certifi>=2017.4.17 in c:\\users\\ssafy\\appdata\\roaming\\python\\python313\\site-packages (from requests->huggingface-hub<1.0,>=0.16.4->tokenizers) (2025.4.26)\n",
      "Using cached tokenizers-0.21.1-cp39-abi3-win_amd64.whl (2.4 MB)\n",
      "Using cached huggingface_hub-0.31.1-py3-none-any.whl (484 kB)\n",
      "Using cached fsspec-2025.3.2-py3-none-any.whl (194 kB)\n",
      "Using cached filelock-3.18.0-py3-none-any.whl (16 kB)\n",
      "Installing collected packages: fsspec, filelock, huggingface-hub, tokenizers\n",
      "Successfully installed filelock-3.18.0 fsspec-2025.3.2 huggingface-hub-0.31.1 tokenizers-0.21.1\n",
      "Note: you may need to restart the kernel to use updated packages.\n"
     ]
    },
    {
     "name": "stderr",
     "output_type": "stream",
     "text": [
      "\n",
      "[notice] A new release of pip is available: 24.3.1 -> 25.1.1\n",
      "[notice] To update, run: python.exe -m pip install --upgrade pip\n"
     ]
    }
   ],
   "source": [
    "%pip install tokenizers\n",
    "\n"
   ]
  },
  {
   "cell_type": "code",
   "execution_count": 2,
   "id": "81a4a79d",
   "metadata": {},
   "outputs": [
    {
     "data": {
      "text/plain": [
       "True"
      ]
     },
     "execution_count": 2,
     "metadata": {},
     "output_type": "execute_result"
    }
   ],
   "source": [
    "from dotenv import load_dotenv\n",
    "load_dotenv()"
   ]
  },
  {
   "cell_type": "code",
   "execution_count": 3,
   "id": "bafd1393",
   "metadata": {},
   "outputs": [
    {
     "ename": "ModuleNotFoundError",
     "evalue": "No module named 'langchain_upstage'",
     "output_type": "error",
     "traceback": [
      "\u001b[31m---------------------------------------------------------------------------\u001b[39m",
      "\u001b[31mModuleNotFoundError\u001b[39m                       Traceback (most recent call last)",
      "\u001b[36mCell\u001b[39m\u001b[36m \u001b[39m\u001b[32mIn[3]\u001b[39m\u001b[32m, line 1\u001b[39m\n\u001b[32m----> \u001b[39m\u001b[32m1\u001b[39m \u001b[38;5;28;01mfrom\u001b[39;00m\u001b[38;5;250m \u001b[39m\u001b[34;01mlangchain_upstage\u001b[39;00m\u001b[38;5;250m \u001b[39m\u001b[38;5;28;01mimport\u001b[39;00m ChatUpstage\n\u001b[32m      2\u001b[39m llm = ChatUpstage()\n",
      "\u001b[31mModuleNotFoundError\u001b[39m: No module named 'langchain_upstage'"
     ]
    }
   ],
   "source": [
    "from langchain_upstage import ChatUpstage\n",
    "llm = ChatUpstage()"
   ]
  },
  {
   "cell_type": "code",
   "execution_count": 12,
   "id": "23ede79e",
   "metadata": {},
   "outputs": [
    {
     "data": {
      "text/plain": [
       "AIMessage(content='죄송합니다, 제가 파악한 정보에 따르면 어떤 카이의 콘서트인지 명확하지 않습니다. 카이라는 가수나 밴드에 관한 더 자세한 정보를 제공해 주시면 도움을 드릴 수 있을 것 같습니다.', additional_kwargs={'refusal': None}, response_metadata={'token_usage': {'completion_tokens': 89, 'prompt_tokens': 23, 'total_tokens': 112, 'completion_tokens_details': {'accepted_prediction_tokens': 0, 'audio_tokens': 0, 'reasoning_tokens': 0, 'rejected_prediction_tokens': 0}, 'prompt_tokens_details': {'audio_tokens': 0, 'cached_tokens': 0}}, 'model_name': 'gpt-3.5-turbo-0125', 'system_fingerprint': None, 'id': 'chatcmpl-BWQDcHPaDPPfYo4B2NcxJbUQRUKmz', 'service_tier': 'default', 'finish_reason': 'stop', 'logprobs': None}, id='run--689ec325-458b-4eb1-af61-36e350b3f735-0', usage_metadata={'input_tokens': 23, 'output_tokens': 89, 'total_tokens': 112, 'input_token_details': {'audio': 0, 'cache_read': 0}, 'output_token_details': {'audio': 0, 'reasoning': 0}})"
      ]
     },
     "execution_count": 12,
     "metadata": {},
     "output_type": "execute_result"
    }
   ],
   "source": [
    "llm.invoke(\"카이 콘서트는 언제 하나요?\")"
   ]
  },
  {
   "cell_type": "code",
   "execution_count": 8,
   "id": "fec86b38",
   "metadata": {},
   "outputs": [
    {
     "name": "stdout",
     "output_type": "stream",
     "text": [
      "현재 작업 디렉토리: c:\\SSAFY\\S12P31B205\\backend\\src\\main\\python\\rag\n"
     ]
    }
   ],
   "source": [
    "import os\n",
    "print(\"현재 작업 디렉토리:\", os.getcwd())"
   ]
  }
 ],
 "metadata": {
  "kernelspec": {
   "display_name": "Python 3",
   "language": "python",
   "name": "python3"
  },
  "language_info": {
   "codemirror_mode": {
    "name": "ipython",
    "version": 3
   },
   "file_extension": ".py",
   "mimetype": "text/x-python",
   "name": "python",
   "nbconvert_exporter": "python",
   "pygments_lexer": "ipython3",
   "version": "3.13.1"
  }
 },
 "nbformat": 4,
 "nbformat_minor": 5
}
